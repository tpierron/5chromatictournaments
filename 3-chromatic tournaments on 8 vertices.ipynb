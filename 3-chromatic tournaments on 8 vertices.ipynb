{
 "cells": [
  {
   "cell_type": "code",
   "execution_count": 30,
   "metadata": {},
   "outputs": [],
   "source": [
    "partitions = [(list(s),[i for i in range(0,8) if not i in s]) for s in Subsets(list(range(0,8))) if 0 in s]"
   ]
  },
  {
   "cell_type": "code",
   "execution_count": 34,
   "metadata": {},
   "outputs": [],
   "source": [
    "def is2colorable(G):\n",
    "    for (s,t) in partitions:\n",
    "        if G.subgraph(s).is_directed_acyclic() and G.subgraph(t).is_directed_acyclic():\n",
    "            return True\n",
    "    return False"
   ]
  },
  {
   "cell_type": "code",
   "execution_count": 40,
   "metadata": {},
   "outputs": [],
   "source": [
    "three_chromatic = [g for g in digraphs.tournaments_nauty(8) if not(is2colorable(g))]"
   ]
  },
  {
   "cell_type": "code",
   "execution_count": 38,
   "metadata": {},
   "outputs": [],
   "source": [
    "def hastt5(G):\n",
    "    for s in Subsets(list(range(0,8))):\n",
    "        if len(s)==5 and G.subgraph(s).is_directed_acyclic():\n",
    "            return True\n",
    "    return False\n",
    "                            "
   ]
  },
  {
   "cell_type": "code",
   "execution_count": 43,
   "metadata": {},
   "outputs": [],
   "source": [
    "three_chromatic_with_TT5 = [g for g in three_chromatic if hastt5(g)]\n",
    "three_chromatic_without_TT5 = [g for g in three_chromatic if not(hastt5(g))]"
   ]
  },
  {
   "cell_type": "code",
   "execution_count": null,
   "metadata": {},
   "outputs": [],
   "source": []
  },
  {
   "cell_type": "code",
   "execution_count": null,
   "metadata": {},
   "outputs": [],
   "source": []
  }
 ],
 "metadata": {
  "kernelspec": {
   "display_name": "SageMath 9.0",
   "language": "sage",
   "name": "sagemath"
  },
  "language_info": {
   "codemirror_mode": {
    "name": "ipython",
    "version": 3
   },
   "file_extension": ".py",
   "mimetype": "text/x-python",
   "name": "python",
   "nbconvert_exporter": "python",
   "pygments_lexer": "ipython3",
   "version": "3.8.10"
  }
 },
 "nbformat": 4,
 "nbformat_minor": 4
}
